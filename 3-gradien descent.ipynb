{
 "cells": [
  {
   "cell_type": "code",
   "execution_count": 1,
   "metadata": {},
   "outputs": [],
   "source": [
    "import numpy as np"
   ]
  },
  {
   "cell_type": "code",
   "execution_count": 2,
   "metadata": {},
   "outputs": [],
   "source": [
    "def my_square(x):\n",
    "    return x * x \n",
    "    "
   ]
  },
  {
   "cell_type": "code",
   "execution_count": 10,
   "metadata": {},
   "outputs": [
    {
     "data": {
      "text/plain": [
       "array([9.7578316 , 5.39895311])"
      ]
     },
     "execution_count": 10,
     "metadata": {},
     "output_type": "execute_result"
    }
   ],
   "source": [
    "x = np.random.uniform((10,10),4,)\n",
    "x"
   ]
  },
  {
   "cell_type": "code",
   "execution_count": null,
   "metadata": {},
   "outputs": [],
   "source": [
    "import numpy as np\n",
    "\n",
    "# Define the function to be minimized\n",
    "def f(x):\n",
    "  return x**2 + 5*x + 6\n",
    "\n",
    "# Define the derivative of the function\n",
    "def df(x):\n",
    "  return 2*x + 5\n",
    "\n",
    "# Set the initial value of x\n",
    "x = np.array([3.0])\n",
    "\n",
    "# Set the learning rate\n",
    "learning_rate = 0.1\n",
    "\n",
    "# Set the maximum number of iterations\n",
    "max_iter = 100\n",
    "\n",
    "# Set the tolerance for the minimum value of the function\n",
    "tol = 1e-6\n",
    "\n",
    "# Set the initial value of the minimum\n",
    "f_min = float('inf')\n",
    "\n",
    "# Iterate over the number of iterations\n",
    "for i in range(max_iter):\n",
    "  # Calculate the gradient at the current value of x\n",
    "  gradient = df(x)\n",
    "\n",
    "  # Update the value of x using the gradient descent update rule\n",
    "  x = x - learning_rate * gradient\n",
    "\n",
    "  # Calculate the value of the function at the new value of x\n",
    "  f_x = f(x)\n",
    "\n",
    "  # Check if the new value of the function is less than the minimum\n",
    "  if f_x < f_min:\n",
    "    # If it is, update the minimum value\n",
    "    f_min = f_x\n",
    "\n",
    "  # Check if the tolerance has been reached\n",
    "  if np.abs(f_min - f_x) < tol:\n",
    "    # If it has, break out of the loop\n",
    "    break\n",
    "\n",
    "# Print the minimum value of the function\n",
    "print(f_min)\n"
   ]
  },
  {
   "cell_type": "code",
   "execution_count": 7,
   "metadata": {},
   "outputs": [
    {
     "data": {
      "text/plain": [
       "array([1.93562203, 8.07213915])"
      ]
     },
     "execution_count": 7,
     "metadata": {},
     "output_type": "execute_result"
    }
   ],
   "source": [
    "# Define the function to be minimized\n",
    "def f(x):\n",
    "  return x**2 + 5*x + 6\n",
    "\n",
    "# Define the derivative of the function\n",
    "def df(x):\n",
    "  return 2*x + 5\n",
    "\n",
    "# Set the initial value of x\n",
    "x = 3\n",
    "\n",
    "# Set the learning rate\n",
    "learning_rate = 0.1\n",
    "\n",
    "# Set the maximum number of iterations\n",
    "max_iter = 100\n",
    "\n",
    "# Set the tolerance for the minimum value of the function\n",
    "tol = 1e-6\n",
    "\n",
    "# Set the initial value of the minimum\n",
    "f_min = float('inf')\n",
    "\n",
    "# Iterate over the number of iterations\n",
    "for i in range(max_iter):\n",
    "  # Calculate the gradient at the current value of x\n",
    "  gradient = df(x)\n",
    "\n",
    "  # Update the value of x using the gradient descent update rule\n",
    "  x = x - learning_rate * gradient\n",
    "\n",
    "  # Calculate the value of the function at the new value of x\n",
    "  f_x = f(x)\n",
    "\n",
    "  # Check if the new value of the function is less than the minimum\n",
    "  if f_x < f_min:\n",
    "    # If it is, update the minimum value\n",
    "    f_min = f_x\n",
    "\n",
    "  # Check if the tolerance has been reached\n",
    "  if abs(f_min - f_x) < tol:\n",
    "    # If it has, break out of the loop\n",
    "    break\n",
    "\n",
    "# Print the minimum value of the function\n",
    "print(f_min)\n"
   ]
  }
 ],
 "metadata": {
  "kernelspec": {
   "display_name": "Python 3.10.8 ('unrarr')",
   "language": "python",
   "name": "python3"
  },
  "language_info": {
   "codemirror_mode": {
    "name": "ipython",
    "version": 3
   },
   "file_extension": ".py",
   "mimetype": "text/x-python",
   "name": "python",
   "nbconvert_exporter": "python",
   "pygments_lexer": "ipython3",
   "version": "3.10.8 (main, Nov  4 2022, 13:48:29) [GCC 11.2.0]"
  },
  "orig_nbformat": 4,
  "vscode": {
   "interpreter": {
    "hash": "8b397ee472c5c524c59aac8ed861e151948a085a807dd3113556f011a7b5793c"
   }
  }
 },
 "nbformat": 4,
 "nbformat_minor": 2
}

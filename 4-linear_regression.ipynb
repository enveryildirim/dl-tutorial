{
 "cells": [
  {
   "cell_type": "code",
   "execution_count": null,
   "metadata": {},
   "outputs": [],
   "source": []
  },
  {
   "attachments": {},
   "cell_type": "markdown",
   "metadata": {},
   "source": [
    "Kaynak : https://towardsdatascience.com/linear-regression-explained-1b36f97b7572\n",
    "![Resim](https://miro.medium.com/max/4800/1*N1-K-A43_98pYZ27fnupDA.webp)"
   ]
  },
  {
   "attachments": {},
   "cell_type": "markdown",
   "metadata": {},
   "source": [
    "## Simple linear regression y=a*X +b "
   ]
  },
  {
   "cell_type": "code",
   "execution_count": 77,
   "metadata": {},
   "outputs": [
    {
     "name": "stdout",
     "output_type": "stream",
     "text": [
      "theta_0 = 0.9859898664422495\n",
      "theta_1 = 2.003880582342283\n"
     ]
    }
   ],
   "source": [
    "import numpy as np\n",
    "np.random.seed(0)\n",
    "\n",
    "# Define the data points\n",
    "X = np.array([1, 2, 3, 4, 5])\n",
    "y = np.array([3, 5, 7, 9, 11])\n",
    "# 2*x+1\n",
    "# Define the initial values of the parameters\n",
    "a = 0\n",
    "b = 0\n",
    "\n",
    "# Set the learning rate\n",
    "learning_rate = 0.01\n",
    "\n",
    "# Set the maximum number of iterations\n",
    "max_iter = 1000\n",
    "\n",
    "# Iterate over the number of iterations\n",
    "for i in range(max_iter):\n",
    "  # Calculate the predicted values using the current values of the parameters\n",
    "  y_pred = b + a * X\n",
    "\n",
    "  # Calculate the mean squared error loss\n",
    "  loss = np.mean((y - y_pred)**2)\n",
    "\n",
    "  # Calculate the gradients of the loss function with respect to the parameters\n",
    "  grad_0 = -2 * np.mean(y - y_pred)\n",
    "  grad_1 = -2 * np.mean((y - y_pred) * X)\n",
    "\n",
    "  # Update the values of the parameters using the gradient descent update rule\n",
    "  b = b - learning_rate * grad_0\n",
    "  a = a - learning_rate * grad_1\n",
    "\n",
    "# Print the final values of the parameters\n",
    "print(f\"theta_0 = {b}\")\n",
    "print(f\"theta_1 = {a}\")\n"
   ]
  },
  {
   "cell_type": "code",
   "execution_count": 74,
   "metadata": {},
   "outputs": [
    {
     "name": "stdout",
     "output_type": "stream",
     "text": [
      "[10.08521835 20.04232949 29.99944063 39.95655177]\n"
     ]
    }
   ],
   "source": [
    "import numpy as np\n",
    "\n",
    "# training data\n",
    "x = np.array([[1, 2], [2, 4], [3, 6], [4, 8]])\n",
    "y = np.array([10, 20, 30, 40])\n",
    "\n",
    "# add a column of ones to x\n",
    "x = np.concatenate((np.ones((x.shape[0], 1)), x), axis=1)\n",
    "\n",
    "# initialize the weights\n",
    "w = np.zeros(x.shape[1])\n",
    "\n",
    "# set the learning rate\n",
    "alpha = 0.01\n",
    "\n",
    "# number of iterations\n",
    "n_iter = 1000\n",
    "\n",
    "# perform gradient descent\n",
    "for i in range(n_iter):\n",
    "    y_pred = x.dot(w)\n",
    "    error = y - y_pred\n",
    "    gradient = x.T.dot(error) / x.shape[0]\n",
    "    w += alpha * gradient\n",
    "\n",
    "# make predictions\n",
    "predictions = x.dot(w)\n",
    "print(predictions)\n"
   ]
  },
  {
   "cell_type": "code",
   "execution_count": 75,
   "metadata": {},
   "outputs": [
    {
     "name": "stdout",
     "output_type": "stream",
     "text": [
      "[49.91366291]\n"
     ]
    }
   ],
   "source": [
    "# make predictions for a new input\n",
    "input = np.array([[5, 10]])\n",
    "input = np.concatenate((np.ones((input.shape[0], 1)), input), axis=1)\n",
    "prediction = input.dot(w)\n",
    "print(prediction)"
   ]
  },
  {
   "attachments": {},
   "cell_type": "markdown",
   "metadata": {},
   "source": [
    "This code performs gradient descent on the multi-linear regression problem defined by the data in X and y and the initial value of theta. It uses the NumPy library to efficiently calculate the values of the function and its derivative, as well as to perform the gradient descent update rule. The minimum value of the function and the optimal value of theta are printed at the end of the loop."
   ]
  },
  {
   "cell_type": "code",
   "execution_count": null,
   "metadata": {},
   "outputs": [],
   "source": []
  },
  {
   "cell_type": "code",
   "execution_count": 8,
   "metadata": {},
   "outputs": [
    {
     "ename": "ValueError",
     "evalue": "shapes (20,) and (3,) not aligned: 20 (dim 0) != 3 (dim 0)",
     "output_type": "error",
     "traceback": [
      "\u001b[0;31m---------------------------------------------------------------------------\u001b[0m",
      "\u001b[0;31mValueError\u001b[0m                                Traceback (most recent call last)",
      "Cell \u001b[0;32mIn [8], line 29\u001b[0m\n\u001b[1;32m     26\u001b[0m \u001b[39m# Iterate over the number of iterations\u001b[39;00m\n\u001b[1;32m     27\u001b[0m \u001b[39mfor\u001b[39;00m i \u001b[39min\u001b[39;00m \u001b[39mrange\u001b[39m(max_iter):\n\u001b[1;32m     28\u001b[0m   \u001b[39m# Calculate the gradient at the current value of theta\u001b[39;00m\n\u001b[0;32m---> 29\u001b[0m   gradient \u001b[39m=\u001b[39m df(x, y, theta)\n\u001b[1;32m     31\u001b[0m   \u001b[39m# Update the value of theta using the gradient descent update rule\u001b[39;00m\n\u001b[1;32m     32\u001b[0m   theta \u001b[39m=\u001b[39m theta \u001b[39m-\u001b[39m learning_rate \u001b[39m*\u001b[39m gradient\n",
      "Cell \u001b[0;32mIn [8], line 9\u001b[0m, in \u001b[0;36mdf\u001b[0;34m(x, y, theta)\u001b[0m\n\u001b[1;32m      8\u001b[0m \u001b[39mdef\u001b[39;00m \u001b[39mdf\u001b[39m(x, y, theta):\n\u001b[0;32m----> 9\u001b[0m   \u001b[39mreturn\u001b[39;00m \u001b[39m2\u001b[39m \u001b[39m*\u001b[39m np\u001b[39m.\u001b[39mdot(x\u001b[39m.\u001b[39mT, np\u001b[39m.\u001b[39;49mdot(x, theta) \u001b[39m-\u001b[39m y)\n",
      "File \u001b[0;32m<__array_function__ internals>:180\u001b[0m, in \u001b[0;36mdot\u001b[0;34m(*args, **kwargs)\u001b[0m\n",
      "\u001b[0;31mValueError\u001b[0m: shapes (20,) and (3,) not aligned: 20 (dim 0) != 3 (dim 0)"
     ]
    }
   ],
   "source": [
    "import numpy as np\n",
    "\n",
    "# Define the function to be minimized\n",
    "def f(x, y, theta):\n",
    "  return np.sum((y - np.dot(x, theta)) ** 2)\n",
    "\n",
    "# Define the derivative of the function\n",
    "def df(x, y, theta):\n",
    "  return 2 * np.dot(x.T, np.dot(x, theta) - y)\n",
    "\n",
    "# Set the initial values of theta\n",
    "theta = np.array([0, 0, 0])\n",
    "\n",
    "# Set the learning rate\n",
    "learning_rate = 0.1\n",
    "\n",
    "# Set the maximum number of iterations\n",
    "max_iter = 100\n",
    "\n",
    "# Set the tolerance for the minimum value of the function\n",
    "tol = 1e-6\n",
    "\n",
    "# Set the initial value of the minimum\n",
    "f_min = float('inf')\n",
    "\n",
    "# Iterate over the number of iterations\n",
    "for i in range(max_iter):\n",
    "  # Calculate the gradient at the current value of theta\n",
    "  gradient = df(x, y, theta)\n",
    "\n",
    "  # Update the value of theta using the gradient descent update rule\n",
    "  theta = theta - learning_rate * gradient\n",
    "\n",
    "  # Calculate the value of the function at the new value of theta\n",
    "  f_theta = f(x, y, theta)\n",
    "\n",
    "  # Check if the new value of the function is less than the minimum\n",
    "  if f_theta < f_min:\n",
    "    # If it is, update the minimum value\n",
    "    f_min = f_theta\n",
    "\n",
    "  # Check if the tolerance has been reached\n",
    "  if np.abs(f_min - f_theta) < tol:\n",
    "    # If it has, break out of the loop\n",
    "    break\n",
    "\n",
    "# Print the minimum value of the function\n",
    "print(f_min)\n"
   ]
  },
  {
   "attachments": {},
   "cell_type": "markdown",
   "metadata": {},
   "source": [
    "This code performs gradient descent on the function f, which is defined as the sum of the squared errors between the predicted values (given by np.dot(x, theta)) and the actual values (given by y). The function df is the derivative of f with respect to theta. The variable x is the design matrix and y is the vector of target values. The variable theta is the vector of coefficients that is updated at each iteration of the gradient descent algorithm.\n",
    "\n",
    "The learning rate, maximum number of iterations, and tolerance are hyperparameters that can be adjusted to control the behavior of the gradient descent algorithm. The minimum value of the function is calculated and updated at each iteration, and the loop is terminated when the difference between the current and minimum values is less than the tolerance."
   ]
  },
  {
   "cell_type": "code",
   "execution_count": 72,
   "metadata": {},
   "outputs": [
    {
     "name": "stdout",
     "output_type": "stream",
     "text": [
      "0\n",
      "[40.2]\n"
     ]
    }
   ],
   "source": [
    "import numpy as np\n",
    "\n",
    "class MultiLinearRegression:\n",
    "    def __init__(self, learning_rate=0.01, max_iter=100, tol=1e-6):\n",
    "        \"\"\"Initialize the model with hyperparameters.\n",
    "\n",
    "        Parameters:\n",
    "        - learning_rate: a float representing the learning rate.\n",
    "        - max_iter: an integer representing the maximum number of iterations.\n",
    "        - tol: a float representing the tolerance for the minimum value of the function.\n",
    "        \"\"\"\n",
    "        self.learning_rate = learning_rate\n",
    "        self.max_iter = max_iter\n",
    "        self.tol = tol\n",
    "\n",
    "    def fit(self, X, y):\n",
    "        \"\"\"Fit the model to the training data using gradient descent.\n",
    "\n",
    "        Parameters:\n",
    "        - X: a 2D NumPy array of shape (n_samples, n_features) representing the design matrix.\n",
    "        - y: a 1D NumPy array of shape (n_samples,) representing the target values.\n",
    "        \"\"\"\n",
    "        # Add a column of ones to the design matrix for the bias term\n",
    "        X = np.insert(X, 0, 1, axis=1)\n",
    "\n",
    "        # Initialize the coefficients to zero\n",
    "        self.theta = np.zeros(X.shape[1])\n",
    "\n",
    "        # Set the initial value of the minimum\n",
    "        f_min = float('inf')\n",
    "\n",
    "        # Iterate over the number of iterations\n",
    "        for i in range(self.max_iter):\n",
    "            print(i)\n",
    "            # Calculate the gradient at the current value of theta\n",
    "            gradient = self._df(X, y, self.theta)\n",
    "\n",
    "            # Update the value of theta using the gradient descent update rule\n",
    "            self.theta = self.theta - self.learning_rate * gradient\n",
    "\n",
    "            # Calculate the value of the function at the new value of theta\n",
    "            f_theta = self._f(X, y, self.theta)\n",
    "\n",
    "            # Check if the new value of the function is less than the minimum\n",
    "            if f_theta < f_min:\n",
    "                # If it is, update the minimum value\n",
    "                f_min = f_theta\n",
    "\n",
    "            # Check if the tolerance has been reached\n",
    "            if np.abs(f_min - f_theta) < self.tol:\n",
    "                # If it has, break out of the loop\n",
    "                break\n",
    "\n",
    "    def predict(self, x_new):\n",
    "        \"\"\"Make a prediction using the trained model.\n",
    "\n",
    "        Parameters:\n",
    "        - x_new: a 2D NumPy array of shape (n_samples, n_features) representing the examples to predict.\n",
    "\n",
    "        Returns:\n",
    "        - A 1D NumPy array of shape (n_samples,) representing the predicted values.\n",
    "        \"\"\"\n",
    "        # Add a column of ones to the design matrix for the bias term\n",
    "        x_new = np.insert(x_new, 0, 1, axis=1)\n",
    "\n",
    "        # Use the model to make a prediction\n",
    "        y_pred = np.dot(x_new, self.theta)\n",
    "        return y_pred\n",
    "\n",
    "    def _f(self, X, y, theta):\n",
    "        \"\"\"Calculate the value of the function to be minimized.\n",
    "\n",
    "        Parameters:\n",
    "        - X: a 2D NumPy array of shape (n_samples, n_features) representing the design matrix.\n",
    "        - y: a 1D NumPy array of shape (n_samples,) representing the target values.\n",
    "        - theta: a 1D NumPy array of shape (n_features + 1,) representing the current value of the coefficients.\n",
    "\n",
    "        Returns:\n",
    "        - A float representing the value of the function.\n",
    "        \"\"\"\n",
    "        # Calculate the predicted values using the current value of theta\n",
    "        y_pred = np.dot(X, theta)\n",
    "\n",
    "        # Calculate the error between the predicted and true values\n",
    "        error = y_pred - y\n",
    "\n",
    "        # Calculate the sum of the squared errors\n",
    "        f = np.sum(error ** 2) / (2 * X.shape[0])\n",
    "\n",
    "        return f\n",
    "\n",
    "    \n",
    "    def _df(self, X, y, theta):\n",
    "        \"\"\"Calculate the gradient of the function at the current value of theta.\n",
    "\n",
    "        Parameters:\n",
    "        - X: a 2D NumPy array of shape (n_samples, n_features) representing the design matrix.\n",
    "        - y: a 1D NumPy array of shape (n_samples,) representing the target values.\n",
    "        - theta: a 1D NumPy array of shape (n_features + 1,) representing the current value of the coefficients.\n",
    "\n",
    "        Returns:\n",
    "        - A 1D NumPy array of shape (n_features + 1,) representing the gradient.\n",
    "        \"\"\"\n",
    "        # Calculate the predicted values using the current value of theta\n",
    "        y_pred = np.dot(X, theta)\n",
    "\n",
    "        # Calculate the error between the predicted and true values\n",
    "        error = y_pred - y\n",
    "\n",
    "        # Calculate the gradient\n",
    "        gradient = np.dot(X.T, error) / X.shape[0]\n",
    "\n",
    "        return gradient\n",
    "\n",
    "# Define the design matrix\n",
    "X = np.array([[1, 2, 3], [4, 5, 6], [7, 8, 9]])\n",
    "\n",
    "# Define the target vector\n",
    "y = np.array([1, 2, 3])\n",
    "\n",
    "# Create a multi-linear regression model\n",
    "model = MultiLinearRegression(learning_rate=0.1,max_iter=100000)\n",
    "\n",
    "# Fit the model to the training data\n",
    "model.fit(X, y)\n",
    "\n",
    "# Define a new example to predict\n",
    "x_new = np.array([[10, 11, 12]])\n",
    "\n",
    "# Use the model to make a prediction\n",
    "y_pred = model.predict(x_new)\n",
    "\n",
    "# Print the prediction\n",
    "print(y_pred)\n"
   ]
  },
  {
   "cell_type": "code",
   "execution_count": 73,
   "metadata": {},
   "outputs": [
    {
     "data": {
      "text/plain": [
       "array([7.8])"
      ]
     },
     "execution_count": 73,
     "metadata": {},
     "output_type": "execute_result"
    }
   ],
   "source": [
    "model.predict([[1, 2, 3]])"
   ]
  },
  {
   "cell_type": "code",
   "execution_count": null,
   "metadata": {},
   "outputs": [],
   "source": [
    "This function calculates the value of the function that is being minimized by the gradient descent algorithm. It takes as input the design matrix X, the target vector y, and the current value of the coefficients theta, and returns a float representing the value of the function. The function calculates the predicted values using the current value of theta, calculates the error between the predicted and true values, and then calculates the sum of the squared errors. The value of the function is then calculated as the sum of the squared errors divided by twice the number of samples."
   ]
  },
  {
   "attachments": {},
   "cell_type": "markdown",
   "metadata": {},
   "source": [
    "This code defines the MultiLinearRegression class with a fit method that uses gradient descent to find the coefficients that minimize the error between the predicted and true values of the target, and a predict method that uses the trained model to make predictions on new examples. The model can be used by creating an instance of the MultiLinearRegression class, calling the fit method to train the model on a dataset, and then calling the predict method to make predictions on new examples.\n",
    "\n",
    "In this example, the design matrix X has three features (columns) and three samples (rows), and the target vector y has three values. The resulting model has three coefficients, one for each feature. The model can be used to make predictions on new examples that also have three features."
   ]
  },
  {
   "cell_type": "code",
   "execution_count": null,
   "metadata": {},
   "outputs": [],
   "source": [
    "\n"
   ]
  },
  {
   "attachments": {},
   "cell_type": "markdown",
   "metadata": {},
   "source": [
    "# Basic Lİnear Regression"
   ]
  },
  {
   "cell_type": "code",
   "execution_count": 6,
   "metadata": {},
   "outputs": [
    {
     "data": {
      "image/png": "[encoded data removed]",
      "text/plain": [
       "<Figure size 1200x900 with 1 Axes>"
      ]
     },
     "metadata": {},
     "output_type": "display_data"
    }
   ],
   "source": [
    "import numpy as np\n",
    "import pandas as pd\n",
    "import matplotlib.pyplot as plt\n",
    "plt.rcParams['figure.figsize'] = (12.0, 9.0)\n",
    "\n",
    "# Preprocessing Input data\n",
    "data = pd.read_csv('data.csv')\n",
    "X = data.iloc[:, 0]\n",
    "Y = data.iloc[:, 1]\n",
    "plt.scatter(X, Y)\n",
    "plt.show()"
   ]
  },
  {
   "cell_type": "code",
   "execution_count": null,
   "metadata": {},
   "outputs": [],
   "source": [
    "def simple_linear_regression(m, c):\n"
   ]
  },
  {
   "cell_type": "code",
   "execution_count": 7,
   "metadata": {},
   "outputs": [
    {
     "name": "stdout",
     "output_type": "stream",
     "text": [
      "1.4796491688889395 0.10148121494753734\n"
     ]
    }
   ],
   "source": [
    "m = 0\n",
    "c = 0\n",
    "\n",
    "L = 0.0001  # The learning Rate\n",
    "epochs = 1000  # The number of iterations to perform gradient descent\n",
    "\n",
    "n = float(len(X)) # Number of elements in X\n",
    "\n",
    "# Performing Gradient Descent \n",
    "for i in range(epochs): \n",
    "    Y_pred = m*X + c  # The current predicted value of Y\n",
    "    D_m = (-2/n) * sum(X * (Y - Y_pred))  # Derivative wrt m\n",
    "    D_c = (-2/n) * sum(Y - Y_pred)  # Derivative wrt c\n",
    "    m = m - L * D_m  # Update m\n",
    "    c = c - L * D_c  # Update c\n",
    "    \n",
    "print (m, c)"
   ]
  }
 ],
 "metadata": {
  "kernelspec": {
   "display_name": "tf-gpu",
   "language": "python",
   "name": "python3"
  },
  "language_info": {
   "codemirror_mode": {
    "name": "ipython",
    "version": 3
   },
   "file_extension": ".py",
   "mimetype": "text/x-python",
   "name": "python",
   "nbconvert_exporter": "python",
   "pygments_lexer": "ipython3",
   "version": "3.10.8 | packaged by conda-forge | (main, Nov 22 2022, 08:26:04) [GCC 10.4.0]"
  },
  "orig_nbformat": 4,
  "vscode": {
   "interpreter": {
    "hash": "958d8d14dabca165bcdfddd86cb9b453a60d55283e2799df101f99006878e2eb"
   }
  }
 },
 "nbformat": 4,
 "nbformat_minor": 2
}

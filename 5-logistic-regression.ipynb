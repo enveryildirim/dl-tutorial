{
 "cells": [
  {
   "cell_type": "code",
   "execution_count": 1,
   "metadata": {},
   "outputs": [
    {
     "name": "stdout",
     "output_type": "stream",
     "text": [
      "[0.35495173 0.54139553 0.71692662 0.8445622 ]\n"
     ]
    }
   ],
   "source": [
    "import numpy as np\n",
    "\n",
    "# training data\n",
    "x = np.array([[1, 2], [2, 4], [3, 6], [4, 8]])\n",
    "y = np.array([0, 0, 1, 1])\n",
    "\n",
    "# add a column of ones to x\n",
    "x = np.concatenate((np.ones((x.shape[0], 1)), x), axis=1)\n",
    "\n",
    "# initialize the weights\n",
    "w = np.zeros(x.shape[1])\n",
    "\n",
    "# set the learning rate\n",
    "alpha = 0.01\n",
    "\n",
    "# number of iterations\n",
    "n_iter = 1000\n",
    "\n",
    "# sigmoid function\n",
    "def sigmoid(z):\n",
    "    return 1 / (1 + np.exp(-z))\n",
    "\n",
    "# perform gradient descent\n",
    "for i in range(n_iter):\n",
    "    y_pred = sigmoid(x.dot(w))\n",
    "    error = y - y_pred\n",
    "    gradient = x.T.dot(error) / x.shape[0]\n",
    "    w += alpha * gradient\n",
    "\n",
    "# make predictions\n",
    "predictions = sigmoid(x.dot(w))\n",
    "print(predictions)\n"
   ]
  },
  {
   "cell_type": "code",
   "execution_count": 2,
   "metadata": {},
   "outputs": [
    {
     "name": "stdout",
     "output_type": "stream",
     "text": [
      "[0.92099024]\n"
     ]
    }
   ],
   "source": [
    "import numpy as np\n",
    "\n",
    "# training data\n",
    "x = np.array([[1, 2], [2, 4], [3, 6], [4, 8]])\n",
    "y = np.array([0, 0, 1, 1])\n",
    "\n",
    "# add a column of ones to x\n",
    "x = np.concatenate((np.ones((x.shape[0], 1)), x), axis=1)\n",
    "\n",
    "# initialize the weights\n",
    "w = np.zeros(x.shape[1])\n",
    "\n",
    "# set the learning rate\n",
    "alpha = 0.01\n",
    "\n",
    "# number of iterations\n",
    "n_iter = 1000\n",
    "\n",
    "# sigmoid function\n",
    "def sigmoid(z):\n",
    "    return 1 / (1 + np.exp(-z))\n",
    "\n",
    "# perform gradient descent\n",
    "for i in range(n_iter):\n",
    "    y_pred = sigmoid(x.dot(w))\n",
    "    error = y - y_pred\n",
    "    gradient = x.T.dot(error) / x.shape[0]\n",
    "    w += alpha * gradient\n",
    "\n",
    "# make predictions for a new input\n",
    "input = np.array([[5, 10]])\n",
    "input = np.concatenate((np.ones((input.shape[0], 1)), input), axis=1)\n",
    "prediction = sigmoid(input.dot(w))\n",
    "print(prediction)\n"
   ]
  }
 ],
 "metadata": {
  "kernelspec": {
   "display_name": "tf-gpu",
   "language": "python",
   "name": "python3"
  },
  "language_info": {
   "codemirror_mode": {
    "name": "ipython",
    "version": 3
   },
   "file_extension": ".py",
   "mimetype": "text/x-python",
   "name": "python",
   "nbconvert_exporter": "python",
   "pygments_lexer": "ipython3",
   "version": "3.10.8 | packaged by conda-forge | (main, Nov 22 2022, 08:26:04) [GCC 10.4.0]"
  },
  "orig_nbformat": 4,
  "vscode": {
   "interpreter": {
    "hash": "958d8d14dabca165bcdfddd86cb9b453a60d55283e2799df101f99006878e2eb"
   }
  }
 },
 "nbformat": 4,
 "nbformat_minor": 2
}

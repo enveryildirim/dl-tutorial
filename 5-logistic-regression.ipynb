{
 "cells": [
  {
   "attachments": {},
   "cell_type": "markdown",
   "metadata": {},
   "source": [
    "https://en.wikipedia.org/wiki/Logistic_regression"
   ]
  },
  {
   "cell_type": "code",
   "execution_count": 1,
   "metadata": {},
   "outputs": [
    {
     "name": "stdout",
     "output_type": "stream",
     "text": [
      "[0.35495173 0.54139553 0.71692662 0.8445622 ]\n"
     ]
    }
   ],
   "source": [
    "import numpy as np\n",
    "\n",
    "# training data\n",
    "x = np.array([[1, 2], [2, 4], [3, 6], [4, 8]])\n",
    "y = np.array([0, 0, 1, 1])\n",
    "\n",
    "# add a column of ones to x\n",
    "x = np.concatenate((np.ones((x.shape[0], 1)), x), axis=1)\n",
    "\n",
    "# initialize the weights\n",
    "w = np.zeros(x.shape[1])\n",
    "\n",
    "# set the learning rate\n",
    "alpha = 0.01\n",
    "\n",
    "# number of iterations\n",
    "n_iter = 1000\n",
    "\n",
    "# sigmoid function\n",
    "def sigmoid(z):\n",
    "    return 1 / (1 + np.exp(-z))\n",
    "\n",
    "# perform gradient descent\n",
    "for i in range(n_iter):\n",
    "    y_pred = sigmoid(x.dot(w))\n",
    "    error = y - y_pred\n",
    "    gradient = x.T.dot(error) / x.shape[0]\n",
    "    w += alpha * gradient\n",
    "\n",
    "# make predictions\n",
    "predictions = sigmoid(x.dot(w))\n",
    "print(predictions)\n"
   ]
  },
  {
   "cell_type": "code",
   "execution_count": null,
   "metadata": {},
   "outputs": [],
   "source": [
    "# w*x + b"
   ]
  },
  {
   "cell_type": "code",
   "execution_count": 75,
   "metadata": {},
   "outputs": [],
   "source": [
    "import numpy as np\n",
    "\n"
   ]
  },
  {
   "cell_type": "code",
   "execution_count": 82,
   "metadata": {},
   "outputs": [],
   "source": [
    "# training data\n",
    "x = np.array([[1, 2], [2, 4], [3, 6], [4, 8]])\n",
    "y = np.array([0, 0, 1, 1])\n",
    "\n",
    "# add a column of ones to x\n",
    "x = np.concatenate((np.ones((x.shape[0], 1)), x), axis=1)\n",
    "\n",
    "# initialize the weights\n",
    "w = np.random.rand(x.shape[1])\n",
    "\n",
    "# set the learning rate\n",
    "alpha = 0.0001\n",
    "\n",
    "# number of iterations\n",
    "n_iter = 100000\n",
    "\n",
    "# sigmoid function\n",
    "def sigmoid(z):\n",
    "    return 1 / (1 + np.exp(-z))\n",
    "\n",
    "# perform gradient descent\n",
    "for i in range(n_iter):\n",
    "    y_pred = sigmoid(x.dot(w))\n",
    "    error = y - y_pred\n",
    "    gradient = x.T.dot(error) / x.shape[0]\n",
    "    w += alpha * gradient"
   ]
  },
  {
   "cell_type": "code",
   "execution_count": 83,
   "metadata": {},
   "outputs": [
    {
     "name": "stdout",
     "output_type": "stream",
     "text": [
      "[0.39634518]\n"
     ]
    }
   ],
   "source": [
    "# make predictions for a new input\n",
    "input = np.array([[1, 2]])\n",
    "input = np.concatenate((np.ones((input.shape[0], 1)), input), axis=1)\n",
    "prediction = sigmoid(input.dot(w))\n",
    "print(prediction)"
   ]
  },
  {
   "cell_type": "code",
   "execution_count": 36,
   "metadata": {},
   "outputs": [
    {
     "name": "stdout",
     "output_type": "stream",
     "text": [
      "sigmoid(1) = 0.7310585786300049\n",
      "sigmoid_derivative(1) = 0.19661193324148185\n"
     ]
    }
   ],
   "source": [
    "import math\n",
    "\n",
    "def sigmoid(x):\n",
    "    return 1 / (1 + math.exp(-x))\n",
    "\n",
    "def sigmoid_derivative(x):\n",
    "    return sigmoid(x) * (1 - sigmoid(x))\n",
    "\n",
    "# Example usage\n",
    "x = 1\n",
    "print(\"sigmoid({}) = {}\".format(x, sigmoid(x)))\n",
    "print(\"sigmoid_derivative({}) = {}\".format(x, sigmoid_derivative(x)))\n"
   ]
  },
  {
   "cell_type": "code",
   "execution_count": 28,
   "metadata": {},
   "outputs": [
    {
     "data": {
      "text/plain": [
       "array([[23, 40],\n",
       "       [14, 24],\n",
       "       [21, 36]])"
      ]
     },
     "execution_count": 28,
     "metadata": {},
     "output_type": "execute_result"
    }
   ],
   "source": [
    "params = np.array([[1,2],[3,5]])\n",
    "inp = np.array([[5,6],[2,4],[3,6]])\n",
    "np.dot(inp, params)"
   ]
  },
  {
   "attachments": {},
   "cell_type": "markdown",
   "metadata": {},
   "source": [
    "# Konular\n",
    "- Matris işlemleri\n",
    "- "
   ]
  }
 ],
 "metadata": {
  "kernelspec": {
   "display_name": "tf-gpu",
   "language": "python",
   "name": "python3"
  },
  "language_info": {
   "codemirror_mode": {
    "name": "ipython",
    "version": 3
   },
   "file_extension": ".py",
   "mimetype": "text/x-python",
   "name": "python",
   "nbconvert_exporter": "python",
   "pygments_lexer": "ipython3",
   "version": "3.10.8"
  },
  "orig_nbformat": 4,
  "vscode": {
   "interpreter": {
    "hash": "958d8d14dabca165bcdfddd86cb9b453a60d55283e2799df101f99006878e2eb"
   }
  }
 },
 "nbformat": 4,
 "nbformat_minor": 2
}
